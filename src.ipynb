{
 "cells": [
  {
   "cell_type": "code",
   "execution_count": 1,
   "metadata": {},
   "outputs": [
    {
     "name": "stderr",
     "output_type": "stream",
     "text": [
      "2024-11-11 21:54:46.252956: I external/local_xla/xla/tsl/cuda/cudart_stub.cc:32] Could not find cuda drivers on your machine, GPU will not be used.\n",
      "2024-11-11 21:54:46.479331: I external/local_xla/xla/tsl/cuda/cudart_stub.cc:32] Could not find cuda drivers on your machine, GPU will not be used.\n",
      "2024-11-11 21:54:46.692426: E external/local_xla/xla/stream_executor/cuda/cuda_fft.cc:477] Unable to register cuFFT factory: Attempting to register factory for plugin cuFFT when one has already been registered\n",
      "WARNING: All log messages before absl::InitializeLog() is called are written to STDERR\n",
      "E0000 00:00:1731342286.869525    1286 cuda_dnn.cc:8310] Unable to register cuDNN factory: Attempting to register factory for plugin cuDNN when one has already been registered\n",
      "E0000 00:00:1731342286.936988    1286 cuda_blas.cc:1418] Unable to register cuBLAS factory: Attempting to register factory for plugin cuBLAS when one has already been registered\n",
      "2024-11-11 21:54:47.362408: I tensorflow/core/platform/cpu_feature_guard.cc:210] This TensorFlow binary is optimized to use available CPU instructions in performance-critical operations.\n",
      "To enable the following instructions: AVX2 FMA, in other operations, rebuild TensorFlow with the appropriate compiler flags.\n"
     ]
    }
   ],
   "source": [
    "import cv2\n",
    "import os,keras\n",
    "import pandas as pd\n",
    "import matplotlib.pyplot as plt\n",
    "import numpy as np\n",
    "import tensorflow as tf"
   ]
  },
  {
   "cell_type": "code",
   "execution_count": 2,
   "metadata": {},
   "outputs": [],
   "source": [
    "voc_root = 'VOCdevkit/VOC2012/'\n",
    "image_dir = os.path.join(voc_root, 'JPEGImages')\n",
    "image_files = os.listdir(image_dir)"
   ]
  },
  {
   "cell_type": "code",
   "execution_count": 3,
   "metadata": {},
   "outputs": [],
   "source": [
    "def selectivesearch(image):\n",
    "    ss = cv2.ximgproc.segmentation.createSelectiveSearchSegmentation()\n",
    "    \n",
    "    ss.setBaseImage(image)\n",
    "    \n",
    "    # Switch to fast but low recall mode\n",
    "    ss.switchToSelectiveSearchFast()\n",
    "    \n",
    "    # Get the proposed regions\n",
    "    rects = ss.process()\n",
    "    \n",
    "    return rects\n"
   ]
  },
  {
   "cell_type": "code",
   "execution_count": 4,
   "metadata": {},
   "outputs": [],
   "source": [
    "image_path = '/home/sandy33/Projects/RCNN-From-Scratch/VOCdevkit/VOC2012/JPEGImages/2007_000063.jpg'  # Adjust this path\n",
    "image = cv2.imread(image_path)\n",
    "\n",
    "# Perform Selective Search\n",
    "rects = selectivesearch(image)\n",
    "\n",
    "# Draw the bounding boxes on the image\n",
    "for (x, y, w, h) in rects[:100]:  # Limit to the first 100 proposals for clarity\n",
    "    cv2.rectangle(image, (x, y), (x + w, y + h), (0, 255, 0), 2)\n",
    "\n",
    "# Display the result\n",
    "cv2.imshow(\"Selective Search Results\", image)\n",
    "cv2.waitKey(10000)\n",
    "cv2.destroyAllWindows()"
   ]
  },
  {
   "cell_type": "code",
   "execution_count": 6,
   "metadata": {},
   "outputs": [],
   "source": [
    "from typing import Dict\n",
    "\n",
    "def get_iou(bb1: Dict[str, float], bb2: Dict[str, float]) -> float:\n",
    "    \"\"\"\n",
    "    Calculate the Intersection over Union (IoU) of two bounding boxes.\n",
    "\n",
    "    Parameters:\n",
    "        bb1 (dict): Dictionary with keys 'x1', 'y1', 'x2', 'y2' representing the first bounding box.\n",
    "        bb2 (dict): Dictionary with keys 'x1', 'y1', 'x2', 'y2' representing the second bounding box.\n",
    "\n",
    "    Returns:\n",
    "        float: IoU value between 0 and 1, inclusive.\n",
    "    \"\"\"\n",
    "    # Assure proper bounding box dimensions.\n",
    "    assert bb1['x1'] < bb1['x2']\n",
    "    assert bb1['y1'] < bb1['y2']\n",
    "    assert bb2['x1'] < bb2['x2']\n",
    "    assert bb2['y1'] < bb2['y2']\n",
    "  \n",
    "    # Calculate coordinates of intersection.\n",
    "    x_left = max(bb1['x1'], bb2['x1'])\n",
    "    y_top = max(bb1['y1'], bb2['y1'])\n",
    "    x_right = min(bb1['x2'], bb2['x2'])\n",
    "    y_bottom = min(bb1['y2'], bb2['y2'])\n",
    "  \n",
    "    # Return 0 if there is no overlap.\n",
    "    if x_right < x_left or y_bottom < y_top:\n",
    "        return 0.0\n",
    "  \n",
    "    # Calculate intersection area.\n",
    "    intersection_area = (x_right - x_left) * (y_bottom - y_top)\n",
    "  \n",
    "    # Calculate individual areas.\n",
    "    bb1_area = (bb1['x2'] - bb1['x1']) * (bb1['y2'] - bb1['y1'])\n",
    "    bb2_area = (bb2['x2'] - bb2['x1']) * (bb2['y2'] - bb2['y1'])\n",
    "  \n",
    "    # Compute IoU.\n",
    "    iou = intersection_area / float(bb1_area + bb2_area - intersection_area)\n",
    "  \n",
    "    # Ensure IoU is within the valid range.\n",
    "    assert 0.0 <= iou <= 1.0\n",
    "    return iou\n"
   ]
  }
 ],
 "metadata": {
  "kernelspec": {
   "display_name": ".venv",
   "language": "python",
   "name": "python3"
  },
  "language_info": {
   "codemirror_mode": {
    "name": "ipython",
    "version": 3
   },
   "file_extension": ".py",
   "mimetype": "text/x-python",
   "name": "python",
   "nbconvert_exporter": "python",
   "pygments_lexer": "ipython3",
   "version": "3.10.12"
  }
 },
 "nbformat": 4,
 "nbformat_minor": 2
}
