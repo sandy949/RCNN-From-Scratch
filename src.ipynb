{
 "cells": [
  {
   "cell_type": "code",
   "execution_count": 35,
   "metadata": {},
   "outputs": [],
   "source": [
    "import cv2\n",
    "import os,keras\n",
    "import pandas as pd\n",
    "import matplotlib.pyplot as plt\n",
    "import numpy as np\n",
    "import tensorflow as tf"
   ]
  },
  {
   "cell_type": "code",
   "execution_count": 36,
   "metadata": {},
   "outputs": [],
   "source": [
    "voc_root = 'VOCdevkit/VOC2012/'\n",
    "image_dir = os.path.join(voc_root, 'JPEGImages')\n",
    "image_files = os.listdir(image_dir)"
   ]
  },
  {
   "cell_type": "code",
   "execution_count": 37,
   "metadata": {},
   "outputs": [],
   "source": [
    "def selectivesearch(image):\n",
    "    ss = cv2.ximgproc.segmentation.createSelectiveSearchSegmentation()\n",
    "    \n",
    "    ss.setBaseImage(image)\n",
    "    \n",
    "    # Switch to fast but low recall mode\n",
    "    ss.switchToSelectiveSearchFast()\n",
    "    \n",
    "    # Get the proposed regions\n",
    "    rects = ss.process()\n",
    "    \n",
    "    return rects\n"
   ]
  },
  {
   "cell_type": "code",
   "execution_count": 38,
   "metadata": {},
   "outputs": [
    {
     "ename": "AttributeError",
     "evalue": "module 'cv2' has no attribute 'ximgproc'",
     "output_type": "error",
     "traceback": [
      "\u001b[0;31m---------------------------------------------------------------------------\u001b[0m",
      "\u001b[0;31mAttributeError\u001b[0m                            Traceback (most recent call last)",
      "Cell \u001b[0;32mIn[38], line 5\u001b[0m\n\u001b[1;32m      2\u001b[0m image \u001b[38;5;241m=\u001b[39m cv2\u001b[38;5;241m.\u001b[39mimread(image_path)\n\u001b[1;32m      4\u001b[0m \u001b[38;5;66;03m# Perform Selective Search\u001b[39;00m\n\u001b[0;32m----> 5\u001b[0m rects \u001b[38;5;241m=\u001b[39m \u001b[43mselectivesearch\u001b[49m\u001b[43m(\u001b[49m\u001b[43mimage\u001b[49m\u001b[43m)\u001b[49m\n\u001b[1;32m      7\u001b[0m \u001b[38;5;66;03m# Draw the bounding boxes on the image\u001b[39;00m\n\u001b[1;32m      8\u001b[0m \u001b[38;5;28;01mfor\u001b[39;00m (x, y, w, h) \u001b[38;5;129;01min\u001b[39;00m rects[:\u001b[38;5;241m100\u001b[39m]:  \u001b[38;5;66;03m# Limit to the first 100 proposals for clarity\u001b[39;00m\n",
      "Cell \u001b[0;32mIn[37], line 2\u001b[0m, in \u001b[0;36mselectivesearch\u001b[0;34m(image)\u001b[0m\n\u001b[1;32m      1\u001b[0m \u001b[38;5;28;01mdef\u001b[39;00m \u001b[38;5;21mselectivesearch\u001b[39m(image):\n\u001b[0;32m----> 2\u001b[0m     ss \u001b[38;5;241m=\u001b[39m \u001b[43mcv2\u001b[49m\u001b[38;5;241;43m.\u001b[39;49m\u001b[43mximgproc\u001b[49m\u001b[38;5;241m.\u001b[39msegmentation\u001b[38;5;241m.\u001b[39mcreateSelectiveSearchSegmentation()\n\u001b[1;32m      4\u001b[0m     ss\u001b[38;5;241m.\u001b[39msetBaseImage(image)\n\u001b[1;32m      6\u001b[0m     \u001b[38;5;66;03m# Switch to fast but low recall mode\u001b[39;00m\n",
      "\u001b[0;31mAttributeError\u001b[0m: module 'cv2' has no attribute 'ximgproc'"
     ]
    }
   ],
   "source": [
    "image_path = '/home/sandy33/Projects/Rcnn_from_scratch/VOCdevkit/VOC2012/JPEGImages/2007_000039.jpg'  # Adjust this path\n",
    "image = cv2.imread(image_path)\n",
    "\n",
    "# Perform Selective Search\n",
    "rects = selectivesearch(image)\n",
    "\n",
    "# Draw the bounding boxes on the image\n",
    "for (x, y, w, h) in rects[:100]:  # Limit to the first 100 proposals for clarity\n",
    "    cv2.rectangle(image, (x, y), (x + w, y + h), (0, 255, 0), 2)\n",
    "\n",
    "# Display the result\n",
    "cv2.imshow(\"Selective Search Results\", image)\n",
    "cv2.waitKey(0)\n",
    "cv2.destroyAllWindows()"
   ]
  },
  {
   "cell_type": "code",
   "execution_count": 28,
   "metadata": {},
   "outputs": [
    {
     "name": "stdout",
     "output_type": "stream",
     "text": [
      "ximgproc available: False\n"
     ]
    }
   ],
   "source": [
    "import cv2\n",
    "\n",
    "# Check if ximgproc is available\n",
    "print(\"ximgproc available:\", hasattr(cv2, 'ximgproc'))\n"
   ]
  },
  {
   "cell_type": "code",
   "execution_count": 24,
   "metadata": {},
   "outputs": [
    {
     "name": "stdout",
     "output_type": "stream",
     "text": [
      "4.10.0\n"
     ]
    }
   ],
   "source": [
    "print(cv2.__version__)"
   ]
  }
 ],
 "metadata": {
  "kernelspec": {
   "display_name": ".venv",
   "language": "python",
   "name": "python3"
  },
  "language_info": {
   "codemirror_mode": {
    "name": "ipython",
    "version": 3
   },
   "file_extension": ".py",
   "mimetype": "text/x-python",
   "name": "python",
   "nbconvert_exporter": "python",
   "pygments_lexer": "ipython3",
   "version": "3.10.12"
  }
 },
 "nbformat": 4,
 "nbformat_minor": 2
}
