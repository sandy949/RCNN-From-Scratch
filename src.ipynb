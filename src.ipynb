{
 "cells": [
  {
   "cell_type": "code",
   "execution_count": 1,
   "metadata": {},
   "outputs": [],
   "source": [
    "import cv2\n",
    "import os,keras\n",
    "import pandas as pd\n",
    "import matplotlib.pyplot as plt\n",
    "import numpy as np\n",
    "import tensorflow as tf"
   ]
  },
  {
   "cell_type": "code",
   "execution_count": 2,
   "metadata": {},
   "outputs": [],
   "source": [
    "voc_root = 'VOCdevkit/VOC2012/'\n",
    "image_dir = os.path.join(voc_root, 'JPEGImages')\n",
    "image_files = os.listdir(image_dir)"
   ]
  },
  {
   "cell_type": "code",
   "execution_count": 3,
   "metadata": {},
   "outputs": [],
   "source": [
    "def selectivesearch(image):\n",
    "    ss = cv2.ximgproc.segmentation.createSelectiveSearchSegmentation()\n",
    "    \n",
    "    ss.setBaseImage(image)\n",
    "    \n",
    "    # Switch to fast but low recall mode\n",
    "    ss.switchToSelectiveSearchFast()\n",
    "    \n",
    "    # Get the proposed regions\n",
    "    rects = ss.process()\n",
    "    \n",
    "    return rects\n"
   ]
  },
  {
   "cell_type": "code",
   "execution_count": 4,
   "metadata": {},
   "outputs": [],
   "source": [
    "image_path = '/home/sandy33/Projects/RCNN-From-Scratch/VOCdevkit/VOC2012/JPEGImages/2007_000063.jpg'  # Adjust this path\n",
    "image = cv2.imread(image_path)\n",
    "\n",
    "# Perform Selective Search\n",
    "rects = selectivesearch(image)\n",
    "\n",
    "# Draw the bounding boxes on the image\n",
    "for (x, y, w, h) in rects[:100]:  # Limit to the first 100 proposals for clarity\n",
    "    cv2.rectangle(image, (x, y), (x + w, y + h), (0, 255, 0), 2)\n",
    "\n",
    "# Display the result\n",
    "cv2.imshow(\"Selective Search Results\", image)\n",
    "cv2.waitKey(10000)\n",
    "cv2.destroyAllWindows()"
   ]
  }
 ],
 "metadata": {
  "kernelspec": {
   "display_name": ".venv",
   "language": "python",
   "name": "python3"
  },
  "language_info": {
   "codemirror_mode": {
    "name": "ipython",
    "version": 3
   },
   "file_extension": ".py",
   "mimetype": "text/x-python",
   "name": "python",
   "nbconvert_exporter": "python",
   "pygments_lexer": "ipython3",
   "version": "3.10.12"
  }
 },
 "nbformat": 4,
 "nbformat_minor": 2
}
